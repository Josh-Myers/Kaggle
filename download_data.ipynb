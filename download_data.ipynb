{
 "cells": [
  {
   "cell_type": "code",
   "execution_count": 1,
   "metadata": {},
   "outputs": [
    {
     "name": "stdout",
     "output_type": "stream",
     "text": [
      "Collecting kaggle\n",
      "  Downloading https://files.pythonhosted.org/packages/62/ab/bb20f9b9e24f9a6250f95a432f8d9a7d745f8d24039d7a5a6eaadb7783ba/kaggle-1.5.6.tar.gz (58kB)\n",
      "\u001b[K    100% |████████████████████████████████| 61kB 2.4MB/s ta 0:00:011\n",
      "\u001b[?25hCollecting urllib3<1.25,>=1.21.1 (from kaggle)\n",
      "  Downloading https://files.pythonhosted.org/packages/01/11/525b02e4acc0c747de8b6ccdab376331597c569c42ea66ab0a1dbd36eca2/urllib3-1.24.3-py2.py3-none-any.whl (118kB)\n",
      "\u001b[K    100% |████████████████████████████████| 122kB 5.2MB/s eta 0:00:01\n",
      "\u001b[?25hCollecting six>=1.10 (from kaggle)\n",
      "  Downloading https://files.pythonhosted.org/packages/73/fb/00a976f728d0d1fecfe898238ce23f502a721c0ac0ecfedb80e0d88c64e9/six-1.12.0-py2.py3-none-any.whl\n",
      "Collecting certifi (from kaggle)\n",
      "  Downloading https://files.pythonhosted.org/packages/18/b0/8146a4f8dd402f60744fa380bc73ca47303cccf8b9190fd16a827281eac2/certifi-2019.9.11-py2.py3-none-any.whl (154kB)\n",
      "\u001b[K    100% |████████████████████████████████| 163kB 4.7MB/s eta 0:00:01\n",
      "\u001b[?25hCollecting python-dateutil (from kaggle)\n",
      "  Downloading https://files.pythonhosted.org/packages/41/17/c62faccbfbd163c7f57f3844689e3a78bae1f403648a6afb1d0866d87fbb/python_dateutil-2.8.0-py2.py3-none-any.whl (226kB)\n",
      "\u001b[K    100% |████████████████████████████████| 235kB 4.9MB/s eta 0:00:01\n",
      "\u001b[?25hCollecting requests (from kaggle)\n",
      "  Downloading https://files.pythonhosted.org/packages/51/bd/23c926cd341ea6b7dd0b2a00aba99ae0f828be89d72b2190f27c11d4b7fb/requests-2.22.0-py2.py3-none-any.whl (57kB)\n",
      "\u001b[K    100% |████████████████████████████████| 61kB 8.6MB/s eta 0:00:01\n",
      "\u001b[?25hCollecting tqdm (from kaggle)\n",
      "  Downloading https://files.pythonhosted.org/packages/e1/c1/bc1dba38b48f4ae3c4428aea669c5e27bd5a7642a74c8348451e0bd8ff86/tqdm-4.36.1-py2.py3-none-any.whl (52kB)\n",
      "\u001b[K    100% |████████████████████████████████| 61kB 9.3MB/s eta 0:00:01\n",
      "\u001b[?25hCollecting python-slugify (from kaggle)\n",
      "  Downloading https://files.pythonhosted.org/packages/f5/ef/c868a9ac657405f051a8a501ac5633e769c54228716b8db7f8d717977e57/python-slugify-3.0.4.tar.gz\n",
      "Collecting idna<2.9,>=2.5 (from requests->kaggle)\n",
      "  Downloading https://files.pythonhosted.org/packages/14/2c/cd551d81dbe15200be1cf41cd03869a46fe7226e7450af7a6545bfc474c9/idna-2.8-py2.py3-none-any.whl (58kB)\n",
      "\u001b[K    100% |████████████████████████████████| 61kB 10.0MB/s ta 0:00:01\n",
      "\u001b[?25hCollecting chardet<3.1.0,>=3.0.2 (from requests->kaggle)\n",
      "  Downloading https://files.pythonhosted.org/packages/bc/a9/01ffebfb562e4274b6487b4bb1ddec7ca55ec7510b22e4c51f14098443b8/chardet-3.0.4-py2.py3-none-any.whl (133kB)\n",
      "\u001b[K    100% |████████████████████████████████| 143kB 8.3MB/s eta 0:00:01\n",
      "\u001b[?25hCollecting text-unidecode>=1.3 (from python-slugify->kaggle)\n",
      "  Downloading https://files.pythonhosted.org/packages/a6/a5/c0b6468d3824fe3fde30dbb5e1f687b291608f9473681bbf7dabbf5a87d7/text_unidecode-1.3-py2.py3-none-any.whl (78kB)\n",
      "\u001b[K    100% |████████████████████████████████| 81kB 10.2MB/s ta 0:00:01\n",
      "\u001b[?25hBuilding wheels for collected packages: kaggle, python-slugify\n",
      "  Running setup.py bdist_wheel for kaggle ... \u001b[?25ldone\n",
      "\u001b[?25h  Stored in directory: /home/jupyter/.cache/pip/wheels/57/4e/e8/bb28d035162fb8f17f8ca5d42c3230e284c6aa565b42b72674\n",
      "  Running setup.py bdist_wheel for python-slugify ... \u001b[?25ldone\n",
      "\u001b[?25h  Stored in directory: /home/jupyter/.cache/pip/wheels/24/23/f5/c260686f9180cd755a30123e607207e0f39eba249b7b4b432c\n",
      "Successfully built kaggle python-slugify\n",
      "Installing collected packages: urllib3, six, certifi, python-dateutil, idna, chardet, requests, tqdm, text-unidecode, python-slugify, kaggle\n",
      "Successfully installed certifi-2019.9.11 chardet-3.0.4 idna-2.8 kaggle-1.5.6 python-dateutil-2.8.0 python-slugify-3.0.4 requests-2.22.0 six-1.12.0 text-unidecode-1.3 tqdm-4.36.1 urllib3-1.24.3\n"
     ]
    }
   ],
   "source": [
    "!pip install kaggle"
   ]
  },
  {
   "cell_type": "code",
   "execution_count": 3,
   "metadata": {},
   "outputs": [
    {
     "name": "stdout",
     "output_type": "stream",
     "text": [
      "Warning: Your Kaggle API key is readable by other users on this system! To fix this, you can run 'chmod 600 /home/jupyter/.kaggle/kaggle.json'\n",
      "ref                                            deadline             category            reward  teamCount  userHasEntered  \n",
      "---------------------------------------------  -------------------  ---------------  ---------  ---------  --------------  \n",
      "digit-recognizer                               2030-01-01 00:00:00  Getting Started  Knowledge       2574           False  \n",
      "titanic                                        2030-01-01 00:00:00  Getting Started  Knowledge      11294            True  \n",
      "house-prices-advanced-regression-techniques    2030-01-01 00:00:00  Getting Started  Knowledge       4649            True  \n",
      "imagenet-object-localization-challenge         2029-12-31 07:00:00  Research         Knowledge         51           False  \n",
      "competitive-data-science-predict-future-sales  2019-12-31 23:59:00  Playground           Kudos       4321           False  \n",
      "Kannada-MNIST                                  2019-12-17 23:59:00  Playground       Knowledge        276           False  \n",
      "bigquery-geotab-intersection-congestion        2019-12-12 23:59:00  Playground           Kudos        222           False  \n",
      "cat-in-the-dat                                 2019-12-09 23:59:00  Playground            Swag        669           False  \n",
      "understanding_cloud_organization               2019-11-18 23:59:00  Research           $10,000        700           False  \n",
      "3d-object-detection-for-autonomous-vehicles    2019-11-12 23:59:00  Featured           $25,000        230           False  \n",
      "rsna-intracranial-hemorrhage-detection         2019-11-11 23:59:00  Featured           $25,000        770            True  \n",
      "severstal-steel-defect-detection               2019-10-24 23:59:00  Featured          $120,000       2041           False  \n",
      "kuzushiji-recognition                          2019-10-14 23:59:00  Playground         $15,000        269           False  \n",
      "youtube8m-2019                                 2019-10-11 23:59:00  Research           $25,000        283           False  \n",
      "ieee-fraud-detection                           2019-10-03 23:59:00  Research           $20,000       6381           False  \n",
      "open-images-2019-object-detection              2019-10-01 23:59:00  Research           $25,000        559           False  \n",
      "open-images-2019-visual-relationship           2019-10-01 23:59:00  Research           $25,000        201           False  \n",
      "open-images-2019-instance-segmentation         2019-10-01 23:59:00  Research           $25,000        193           False  \n",
      "recursion-cellular-image-classification        2019-09-26 23:59:00  Research           $13,000        866           False  \n",
      "aptos2019-blindness-detection                  2019-09-07 23:59:00  Featured           $50,000       2943            True  \n"
     ]
    }
   ],
   "source": [
    "!~/.local/bin/kaggle competitions list"
   ]
  },
  {
   "cell_type": "code",
   "execution_count": 4,
   "metadata": {},
   "outputs": [
    {
     "name": "stdout",
     "output_type": "stream",
     "text": [
      "Warning: Your Kaggle API key is readable by other users on this system! To fix this, you can run 'chmod 600 /home/jupyter/.kaggle/kaggle.json'\n",
      "Downloading rsna-intracranial-hemorrhage-detection.zip to /home/jupyter\n",
      "100%|█████████▉| 156G/156G [37:23<00:00, 117MB/s]     \n",
      "100%|██████████| 156G/156G [37:24<00:00, 74.7MB/s]\n"
     ]
    }
   ],
   "source": [
    "!~/.local/bin/kaggle competitions download rsna-intracranial-hemorrhage-detection"
   ]
  },
  {
   "cell_type": "code",
   "execution_count": 5,
   "metadata": {},
   "outputs": [],
   "source": [
    "!unzip -q rsna-intracranial-hemorrhage-detection.zip"
   ]
  },
  {
   "cell_type": "code",
   "execution_count": null,
   "metadata": {},
   "outputs": [],
   "source": [
    "# ls -1 | wc -l"
   ]
  }
 ],
 "metadata": {
  "kernelspec": {
   "display_name": "Python 3",
   "language": "python",
   "name": "python3"
  },
  "language_info": {
   "codemirror_mode": {
    "name": "ipython",
    "version": 3
   },
   "file_extension": ".py",
   "mimetype": "text/x-python",
   "name": "python",
   "nbconvert_exporter": "python",
   "pygments_lexer": "ipython3",
   "version": "3.5.3"
  }
 },
 "nbformat": 4,
 "nbformat_minor": 4
}
